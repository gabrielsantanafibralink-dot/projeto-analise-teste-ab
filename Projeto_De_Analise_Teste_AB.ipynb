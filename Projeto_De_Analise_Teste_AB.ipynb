{
  "nbformat": 4,
  "nbformat_minor": 0,
  "metadata": {
    "colab": {
      "provenance": [],
      "authorship_tag": "ABX9TyPt2jOrZZ8cIPMQBTx8YG7O",
      "include_colab_link": true
    },
    "kernelspec": {
      "name": "python3",
      "display_name": "Python 3"
    },
    "language_info": {
      "name": "python"
    }
  },
  "cells": [
    {
      "cell_type": "markdown",
      "metadata": {
        "id": "view-in-github",
        "colab_type": "text"
      },
      "source": [
        "<a href=\"https://colab.research.google.com/github/gabrielsantanafibralink-dot/projeto-analise-teste-ab/blob/main/Projeto_De_Analise_Teste_AB.ipynb\" target=\"_parent\"><img src=\"https://colab.research.google.com/assets/colab-badge.svg\" alt=\"Open In Colab\"/></a>"
      ]
    },
    {
      "cell_type": "markdown",
      "source": [
        "# Análise de Teste A/B de Campanha de Marketing\n",
        "\n",
        "**Autor:** Gabriel Santan\n"
      ],
      "metadata": {
        "id": "2rcKHvR2XQA-"
      }
    },
    {
      "cell_type": "markdown",
      "source": [
        "## 1. Introdução e Contexto do Problema\n",
        "\n",
        "Este projeto analisa os resultados de um teste A/B conduzido por uma empresa de marketing digital. O objetivo é avaliar a eficácia de uma nova campanha de propaganda (`psa` - public service announcement) em comparação com a campanha antiga (`ad`).\n",
        "\n",
        "A principal métrica de sucesso é a **taxa de conversão**, que representa a porcentagem de usuários que realizaram uma compra após visualizarem a propaganda.\n",
        "\n",
        "O objetivo final é fornecer uma recomendação de negócio, baseada em evidências estatísticas, sobre qual das duas campanhas deve ser utilizada pela empresa."
      ],
      "metadata": {
        "id": "3EBJOKGcXZN4"
      }
    },
    {
      "cell_type": "code",
      "source": [
        "# Configuração do ambiente: importando as bibliotecas necessárias\n",
        "import pandas as pd\n",
        "import seaborn as sns\n",
        "import matplotlib.pyplot as plt\n",
        "from scipy.stats import chi2_contingency\n",
        "\n",
        "print(\"Bibliotecas importadas com sucesso!\")"
      ],
      "metadata": {
        "colab": {
          "base_uri": "https://localhost:8080/"
        },
        "id": "uja-_lbDXgbu",
        "outputId": "5de3ac22-fb33-418d-92cb-3b01f2259239"
      },
      "execution_count": 1,
      "outputs": [
        {
          "output_type": "stream",
          "name": "stdout",
          "text": [
            "Bibliotecas importadas com sucesso!\n"
          ]
        }
      ]
    },
    {
      "cell_type": "markdown",
      "source": [
        "## 2. Carregamento e Preparação dos Dados\n",
        "\n",
        "Os dados foram obtidos de um dataset público no Kaggle e estão hospedados em um repositório no GitHub para garantir a total reprodutibilidade desta análise.\n",
        "\n",
        "Nesta etapa, vamos:\n",
        "1.  Carregar os dados a partir da URL.\n",
        "2.  Inspecionar a estrutura inicial do dataset.\n",
        "3.  Realizar a limpeza, removendo colunas desnecessárias e renomeando as demais para maior clareza."
      ],
      "metadata": {
        "id": "8tHRVg2FXksH"
      }
    },
    {
      "cell_type": "code",
      "source": [
        "# Carregar os dados a partir do link \"raw\" do GitHub\n",
        "url = 'https://raw.githubusercontent.com/gabrielsantanafibralink-dot/projeto-analise-teste-ab/main/data/marketing_AB.csv'\n",
        "df = pd.read_csv(url)\n",
        "\n",
        "# Renomear a coluna de índice que veio do CSV e as demais colunas\n",
        "df.rename(columns={'Unnamed: 0': 'indice'}, inplace=True)\n",
        "df.columns = ['indice', 'id_usuario', 'grupo_teste', 'convertido', 'total_anuncios', 'dia_mais_anuncios', 'hora_mais_anuncios']\n",
        "\n",
        "\n",
        "# Verificar a integridade dos dados\n",
        "print(\"--- Informações Gerais do DataFrame ---\")\n",
        "df.info()\n",
        "\n",
        "print(\"\\n--- Verificação de Valores Nulos ---\")\n",
        "print(df.isnull().sum())\n",
        "\n",
        "print(\"\\n--- Verificação de Duplicatas de Usuário ---\")\n",
        "print(f\"Total de linhas: {len(df)}\")\n",
        "print(f\"Total de usuários únicos: {df['id_usuario'].nunique()}\")"
      ],
      "metadata": {
        "colab": {
          "base_uri": "https://localhost:8080/"
        },
        "id": "Yw-XgRLkXppS",
        "outputId": "dee1498f-bcdf-4107-f63d-e3b058d45f85"
      },
      "execution_count": 2,
      "outputs": [
        {
          "output_type": "stream",
          "name": "stdout",
          "text": [
            "--- Informações Gerais do DataFrame ---\n",
            "<class 'pandas.core.frame.DataFrame'>\n",
            "RangeIndex: 588101 entries, 0 to 588100\n",
            "Data columns (total 7 columns):\n",
            " #   Column              Non-Null Count   Dtype \n",
            "---  ------              --------------   ----- \n",
            " 0   indice              588101 non-null  int64 \n",
            " 1   id_usuario          588101 non-null  int64 \n",
            " 2   grupo_teste         588101 non-null  object\n",
            " 3   convertido          588101 non-null  bool  \n",
            " 4   total_anuncios      588101 non-null  int64 \n",
            " 5   dia_mais_anuncios   588101 non-null  object\n",
            " 6   hora_mais_anuncios  588101 non-null  int64 \n",
            "dtypes: bool(1), int64(4), object(2)\n",
            "memory usage: 27.5+ MB\n",
            "\n",
            "--- Verificação de Valores Nulos ---\n",
            "indice                0\n",
            "id_usuario            0\n",
            "grupo_teste           0\n",
            "convertido            0\n",
            "total_anuncios        0\n",
            "dia_mais_anuncios     0\n",
            "hora_mais_anuncios    0\n",
            "dtype: int64\n",
            "\n",
            "--- Verificação de Duplicatas de Usuário ---\n",
            "Total de linhas: 588101\n",
            "Total de usuários únicos: 588101\n"
          ]
        }
      ]
    },
    {
      "cell_type": "markdown",
      "source": [
        "## 3. Análise Visual da Taxa de Conversão\n",
        "\n",
        "Com os dados limpos e preparados, o próximo passo é realizar uma análise exploratória visual. O objetivo é calcular e visualizar a taxa de conversão para cada um dos grupos (`ad` e `psa`) para identificar se existe uma diferença aparente entre eles."
      ],
      "metadata": {
        "id": "3KK4EtFRXwHB"
      }
    },
    {
      "cell_type": "code",
      "source": [
        "# Calcular a taxa de conversão para cada grupo\n",
        "taxa_conversao = df.groupby('grupo_teste')['convertido'].mean().reset_index()\n",
        "taxa_conversao['taxa_conversao_pct'] = taxa_conversao['convertido'] * 100\n",
        "\n",
        "# Criar uma coluna com nomes descritivos para o gráfico\n",
        "mapa_nomes = {'ad': 'Propaganda Antiga', 'psa': 'Propaganda Nova'}\n",
        "taxa_conversao['grupo_descritivo'] = taxa_conversao['grupo_teste'].map(mapa_nomes)\n",
        "\n",
        "print(\"--- Taxa de Conversão por Grupo ---\")\n",
        "print(taxa_conversao[['grupo_descritivo', 'taxa_conversao_pct']])\n",
        "print(\"\\n\")\n",
        "\n",
        "# Criar o gráfico de barras para visualizar a diferença\n",
        "plt.figure(figsize=(10, 7))\n",
        "barplot = sns.barplot(x='grupo_descritivo', y='taxa_conversao_pct', data=taxa_conversao, palette='viridis')\n",
        "\n",
        "# Adicionar títulos e rótulos\n",
        "plt.title('Comparativo da Taxa de Conversão', fontsize=16, fontweight='bold')\n",
        "plt.xlabel('Campanha de Marketing', fontsize=12)\n",
        "plt.ylabel('Taxa de Conversão (%)', fontsize=12)\n",
        "plt.ylim(0, max(taxa_conversao['taxa_conversao_pct']) * 1.2)\n",
        "\n",
        "# Adicionar os rótulos de dados em cima de cada barra\n",
        "for index, row in taxa_conversao.iterrows():\n",
        "    barplot.text(x=index,\n",
        "                 y=row.taxa_conversao_pct + 0.05,\n",
        "                 s=f\"{row.taxa_conversao_pct:.2f}%\",\n",
        "                 color='black',\n",
        "                 ha=\"center\",\n",
        "                 fontsize=12)\n",
        "\n",
        "plt.show()"
      ],
      "metadata": {
        "colab": {
          "base_uri": "https://localhost:8080/",
          "height": 838
        },
        "id": "l7hsSdhpX265",
        "outputId": "57ac8b7e-4de0-46b1-9b21-ddb98ce34adb"
      },
      "execution_count": 3,
      "outputs": [
        {
          "output_type": "stream",
          "name": "stdout",
          "text": [
            "--- Taxa de Conversão por Grupo ---\n",
            "    grupo_descritivo  taxa_conversao_pct\n",
            "0  Propaganda Antiga            2.554656\n",
            "1    Propaganda Nova            1.785411\n",
            "\n",
            "\n"
          ]
        },
        {
          "output_type": "stream",
          "name": "stderr",
          "text": [
            "/tmp/ipython-input-558600913.py:15: FutureWarning: \n",
            "\n",
            "Passing `palette` without assigning `hue` is deprecated and will be removed in v0.14.0. Assign the `x` variable to `hue` and set `legend=False` for the same effect.\n",
            "\n",
            "  barplot = sns.barplot(x='grupo_descritivo', y='taxa_conversao_pct', data=taxa_conversao, palette='viridis')\n"
          ]
        },
        {
          "output_type": "display_data",
          "data": {
            "text/plain": [
              "<Figure size 1000x700 with 1 Axes>"
            ],
            "image/png": "[encoded data removed]"
          },
          "metadata": {}
        }
      ]
    },
    {
      "cell_type": "markdown",
      "source": [
        "## 4. Teste de Hipóteses Estatísticas\n",
        "\n",
        "A análise visual sugere que a \"Propaganda Antiga\" possui uma taxa de conversão superior. No entanto, para confirmar se essa diferença é estatisticamente significativa e não apenas fruto do acaso, realizaremos um **Teste Qui-Quadrado de Independência**.\n",
        "\n",
        "Este teste é apropriado para comparar proporções entre duas ou mais categorias.\n",
        "\n",
        "- **$H_0$ (Hipótese Nula):** Não há diferença estatisticamente significativa na taxa de conversão entre os dois grupos.\n",
        "- **$H_1$ (Hipótese Alternativa):** Existe uma diferença estatisticamente significativa na taxa de conversão entre os dois grupos.\n",
        "\n",
        "Adotaremos um **nível de significância (alpha) de 5% (ou 0.05)**. Se o p-valor resultante do teste for menor que 0.05, rejeitaremos a Hipótese Nula."
      ],
      "metadata": {
        "id": "FA7poBKCX9FA"
      }
    },
    {
      "cell_type": "code",
      "source": [
        "# Criar uma tabela de contingência para o teste\n",
        "tabela_contingencia = pd.crosstab(df['grupo_teste'], df['convertido'])\n",
        "\n",
        "print(\"--- Tabela de Contingência ---\")\n",
        "print(tabela_contingencia)\n",
        "print(\"\\n\")\n",
        "\n",
        "# Realizar o teste Qui-Quadrado\n",
        "chi2, p_valor, dof, expected = chi2_contingency(tabela_contingencia)\n",
        "\n",
        "print(\"--- Resultados do Teste Estatístico ---\")\n",
        "print(f\"Estatística Qui-Quadrado: {chi2:.4f}\")\n",
        "print(f\"P-valor: {p_valor:.4f}\")\n",
        "print(\"\\n\")\n",
        "\n",
        "# Interpretar o resultado\n",
        "alpha = 0.05\n",
        "if p_valor < alpha:\n",
        "    print(f\"Conclusão: P-valor ({p_valor:.4f}) é menor que alpha (0.05). Rejeitamos a Hipótese Nula.\")\n",
        "else:\n",
        "    print(f\"Conclusão: P-valor ({p_valor:.4f}) é maior que alpha (0.05). Não podemos rejeitar a Hipótese Nula.\")"
      ],
      "metadata": {
        "colab": {
          "base_uri": "https://localhost:8080/"
        },
        "id": "88-SBQgHYB1K",
        "outputId": "c3864982-4cd1-4645-c0bf-85fc9e6a2fe9"
      },
      "execution_count": 4,
      "outputs": [
        {
          "output_type": "stream",
          "name": "stdout",
          "text": [
            "--- Tabela de Contingência ---\n",
            "convertido    False  True \n",
            "grupo_teste               \n",
            "ad           550154  14423\n",
            "psa           23104    420\n",
            "\n",
            "\n",
            "--- Resultados do Teste Estatístico ---\n",
            "Estatística Qui-Quadrado: 54.0058\n",
            "P-valor: 0.0000\n",
            "\n",
            "\n",
            "Conclusão: P-valor (0.0000) é menor que alpha (0.05). Rejeitamos a Hipótese Nula.\n"
          ]
        }
      ]
    },
    {
      "cell_type": "markdown",
      "source": [
        "## 5. Conclusão Final e Recomendação\n",
        "\n",
        "O Teste Qui-Quadrado resultou em um **p-valor significativamente menor que 0.05**, o que nos leva a **rejeitar a Hipótese Nula**. Isso confirma que a diferença observada nas taxas de conversão entre as duas campanhas é **estatisticamente significativa**.\n",
        "\n",
        "A \"Propaganda Antiga\" apresentou uma taxa de conversão de **2.55%**, enquanto a \"Propaganda Nova\" teve uma taxa de **1.79%**.\n",
        "\n",
        "### Recomendação de Negócio\n",
        "\n",
        "Com base na análise de dados, a recomendação para a empresa é **não prosseguir com o lançamento da nova propaganda (PSA)**. A campanha antiga (`ad`) demonstrou ter uma performance estatisticamente superior na conversão de usuários. A implementação da nova campanha provavelmente resultaria em uma queda na taxa de conversão geral."
      ],
      "metadata": {
        "id": "vUUXdLSwYFJY"
      }
    }
  ]
}